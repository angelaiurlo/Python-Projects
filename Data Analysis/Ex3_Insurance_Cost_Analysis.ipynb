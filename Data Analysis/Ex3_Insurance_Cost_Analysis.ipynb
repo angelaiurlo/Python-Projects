{
  "nbformat": 4,
  "nbformat_minor": 0,
  "metadata": {
    "colab": {
      "provenance": []
    },
    "kernelspec": {
      "name": "python3",
      "display_name": "Python 3"
    },
    "language_info": {
      "name": "python"
    }
  },
  "cells": [
    {
      "cell_type": "markdown",
      "source": [
        "Data Set\n",
        "\n",
        "![tbl.PNG](data:image/png;base64,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)\n",
        "\n",
        "###Objectives\n",
        "\n",
        "- Load the data as a pandas dataframe\n",
        "- Clean the data, taking care of the blank entries\n",
        "- Run exploratory data analysis and identify the attributes that most affect the charges\n",
        "- Develop single variable and multi variable\n",
        "- Linear Regression models for predicting the charges\n",
        "- Use Ridge regression to refine the performance of Linear regression models."
      ],
      "metadata": {
        "id": "OvruYL0zlVGF"
      }
    },
    {
      "cell_type": "code",
      "execution_count": null,
      "metadata": {
        "id": "A485rax3lFXI"
      },
      "outputs": [],
      "source": [
        "import pandas as pd\n",
        "import numpy as np\n",
        "import seaborn as sns\n",
        "import matplotlib.pyplot as plt\n",
        "from scipy import stats\n",
        "from sklearn.pipeline import Pipeline\n",
        "from sklearn.preprocessing import StandardScaler, PolynomialFeatures\n",
        "from sklearn.linear_model import LinearRegression, Ridge\n",
        "from sklearn.metrics import mean_squared_error, r2_score\n",
        "from sklearn.model_selection import cross_val_score, train_test_split"
      ]
    },
    {
      "cell_type": "code",
      "source": [
        "filepath = 'https://cf-courses-data.s3.us.cloud-object-storage.appdomain.cloud/IBMDeveloperSkillsNetwork-DA0101EN-Coursera/medical_insurance_dataset.csv'\n",
        "column=['age','gender','BMI','no_of_children','smoker','region','charges']\n",
        "df=pd.read_csv(filepath,names=column)\n",
        "df.head()"
      ],
      "metadata": {
        "colab": {
          "base_uri": "https://localhost:8080/",
          "height": 206
        },
        "id": "4b8wYOvDnFco",
        "outputId": "53d32afe-a753-42bc-d5e5-7e590ac9707c"
      },
      "execution_count": null,
      "outputs": [
        {
          "output_type": "execute_result",
          "data": {
            "text/plain": [
              "  age  gender     BMI  no_of_children smoker  region      charges\n",
              "0  19       1  27.900               0      1       3  16884.92400\n",
              "1  18       2  33.770               1      0       4   1725.55230\n",
              "2  28       2  33.000               3      0       4   4449.46200\n",
              "3  33       2  22.705               0      0       1  21984.47061\n",
              "4  32       2  28.880               0      0       1   3866.85520"
            ],
            "text/html": [
              "\n",
              "  <div id=\"df-ff32a310-d520-43d9-8859-e1553967b46e\" class=\"colab-df-container\">\n",
              "    <div>\n",
              "<style scoped>\n",
              "    .dataframe tbody tr th:only-of-type {\n",
              "        vertical-align: middle;\n",
              "    }\n",
              "\n",
              "    .dataframe tbody tr th {\n",
              "        vertical-align: top;\n",
              "    }\n",
              "\n",
              "    .dataframe thead th {\n",
              "        text-align: right;\n",
              "    }\n",
              "</style>\n",
              "<table border=\"1\" class=\"dataframe\">\n",
              "  <thead>\n",
              "    <tr style=\"text-align: right;\">\n",
              "      <th></th>\n",
              "      <th>age</th>\n",
              "      <th>gender</th>\n",
              "      <th>BMI</th>\n",
              "      <th>no_of_children</th>\n",
              "      <th>smoker</th>\n",
              "      <th>region</th>\n",
              "      <th>charges</th>\n",
              "    </tr>\n",
              "  </thead>\n",
              "  <tbody>\n",
              "    <tr>\n",
              "      <th>0</th>\n",
              "      <td>19</td>\n",
              "      <td>1</td>\n",
              "      <td>27.900</td>\n",
              "      <td>0</td>\n",
              "      <td>1</td>\n",
              "      <td>3</td>\n",
              "      <td>16884.92400</td>\n",
              "    </tr>\n",
              "    <tr>\n",
              "      <th>1</th>\n",
              "      <td>18</td>\n",
              "      <td>2</td>\n",
              "      <td>33.770</td>\n",
              "      <td>1</td>\n",
              "      <td>0</td>\n",
              "      <td>4</td>\n",
              "      <td>1725.55230</td>\n",
              "    </tr>\n",
              "    <tr>\n",
              "      <th>2</th>\n",
              "      <td>28</td>\n",
              "      <td>2</td>\n",
              "      <td>33.000</td>\n",
              "      <td>3</td>\n",
              "      <td>0</td>\n",
              "      <td>4</td>\n",
              "      <td>4449.46200</td>\n",
              "    </tr>\n",
              "    <tr>\n",
              "      <th>3</th>\n",
              "      <td>33</td>\n",
              "      <td>2</td>\n",
              "      <td>22.705</td>\n",
              "      <td>0</td>\n",
              "      <td>0</td>\n",
              "      <td>1</td>\n",
              "      <td>21984.47061</td>\n",
              "    </tr>\n",
              "    <tr>\n",
              "      <th>4</th>\n",
              "      <td>32</td>\n",
              "      <td>2</td>\n",
              "      <td>28.880</td>\n",
              "      <td>0</td>\n",
              "      <td>0</td>\n",
              "      <td>1</td>\n",
              "      <td>3866.85520</td>\n",
              "    </tr>\n",
              "  </tbody>\n",
              "</table>\n",
              "</div>\n",
              "    <div class=\"colab-df-buttons\">\n",
              "\n",
              "  <div class=\"colab-df-container\">\n",
              "    <button class=\"colab-df-convert\" onclick=\"convertToInteractive('df-ff32a310-d520-43d9-8859-e1553967b46e')\"\n",
              "            title=\"Convert this dataframe to an interactive table.\"\n",
              "            style=\"display:none;\">\n",
              "\n",
              "  <svg xmlns=\"http://www.w3.org/2000/svg\" height=\"24px\" viewBox=\"0 -960 960 960\">\n",
              "    <path d=\"M120-120v-720h720v720H120Zm60-500h600v-160H180v160Zm220 220h160v-160H400v160Zm0 220h160v-160H400v160ZM180-400h160v-160H180v160Zm440 0h160v-160H620v160ZM180-180h160v-160H180v160Zm440 0h160v-160H620v160Z\"/>\n",
              "  </svg>\n",
              "    </button>\n",
              "\n",
              "  <style>\n",
              "    .colab-df-container {\n",
              "      display:flex;\n",
              "      gap: 12px;\n",
              "    }\n",
              "\n",
              "    .colab-df-convert {\n",
              "      background-color: #E8F0FE;\n",
              "      border: none;\n",
              "      border-radius: 50%;\n",
              "      cursor: pointer;\n",
              "      display: none;\n",
              "      fill: #1967D2;\n",
              "      height: 32px;\n",
              "      padding: 0 0 0 0;\n",
              "      width: 32px;\n",
              "    }\n",
              "\n",
              "    .colab-df-convert:hover {\n",
              "      background-color: #E2EBFA;\n",
              "      box-shadow: 0px 1px 2px rgba(60, 64, 67, 0.3), 0px 1px 3px 1px rgba(60, 64, 67, 0.15);\n",
              "      fill: #174EA6;\n",
              "    }\n",
              "\n",
              "    .colab-df-buttons div {\n",
              "      margin-bottom: 4px;\n",
              "    }\n",
              "\n",
              "    [theme=dark] .colab-df-convert {\n",
              "      background-color: #3B4455;\n",
              "      fill: #D2E3FC;\n",
              "    }\n",
              "\n",
              "    [theme=dark] .colab-df-convert:hover {\n",
              "      background-color: #434B5C;\n",
              "      box-shadow: 0px 1px 3px 1px rgba(0, 0, 0, 0.15);\n",
              "      filter: drop-shadow(0px 1px 2px rgba(0, 0, 0, 0.3));\n",
              "      fill: #FFFFFF;\n",
              "    }\n",
              "  </style>\n",
              "\n",
              "    <script>\n",
              "      const buttonEl =\n",
              "        document.querySelector('#df-ff32a310-d520-43d9-8859-e1553967b46e button.colab-df-convert');\n",
              "      buttonEl.style.display =\n",
              "        google.colab.kernel.accessAllowed ? 'block' : 'none';\n",
              "\n",
              "      async function convertToInteractive(key) {\n",
              "        const element = document.querySelector('#df-ff32a310-d520-43d9-8859-e1553967b46e');\n",
              "        const dataTable =\n",
              "          await google.colab.kernel.invokeFunction('convertToInteractive',\n",
              "                                                    [key], {});\n",
              "        if (!dataTable) return;\n",
              "\n",
              "        const docLinkHtml = 'Like what you see? Visit the ' +\n",
              "          '<a target=\"_blank\" href=https://colab.research.google.com/notebooks/data_table.ipynb>data table notebook</a>'\n",
              "          + ' to learn more about interactive tables.';\n",
              "        element.innerHTML = '';\n",
              "        dataTable['output_type'] = 'display_data';\n",
              "        await google.colab.output.renderOutput(dataTable, element);\n",
              "        const docLink = document.createElement('div');\n",
              "        docLink.innerHTML = docLinkHtml;\n",
              "        element.appendChild(docLink);\n",
              "      }\n",
              "    </script>\n",
              "  </div>\n",
              "\n",
              "\n",
              "<div id=\"df-fc3197cd-95f2-4422-a39d-b942aa8207d5\">\n",
              "  <button class=\"colab-df-quickchart\" onclick=\"quickchart('df-fc3197cd-95f2-4422-a39d-b942aa8207d5')\"\n",
              "            title=\"Suggest charts\"\n",
              "            style=\"display:none;\">\n",
              "\n",
              "<svg xmlns=\"http://www.w3.org/2000/svg\" height=\"24px\"viewBox=\"0 0 24 24\"\n",
              "     width=\"24px\">\n",
              "    <g>\n",
              "        <path d=\"M19 3H5c-1.1 0-2 .9-2 2v14c0 1.1.9 2 2 2h14c1.1 0 2-.9 2-2V5c0-1.1-.9-2-2-2zM9 17H7v-7h2v7zm4 0h-2V7h2v10zm4 0h-2v-4h2v4z\"/>\n",
              "    </g>\n",
              "</svg>\n",
              "  </button>\n",
              "\n",
              "<style>\n",
              "  .colab-df-quickchart {\n",
              "      --bg-color: #E8F0FE;\n",
              "      --fill-color: #1967D2;\n",
              "      --hover-bg-color: #E2EBFA;\n",
              "      --hover-fill-color: #174EA6;\n",
              "      --disabled-fill-color: #AAA;\n",
              "      --disabled-bg-color: #DDD;\n",
              "  }\n",
              "\n",
              "  [theme=dark] .colab-df-quickchart {\n",
              "      --bg-color: #3B4455;\n",
              "      --fill-color: #D2E3FC;\n",
              "      --hover-bg-color: #434B5C;\n",
              "      --hover-fill-color: #FFFFFF;\n",
              "      --disabled-bg-color: #3B4455;\n",
              "      --disabled-fill-color: #666;\n",
              "  }\n",
              "\n",
              "  .colab-df-quickchart {\n",
              "    background-color: var(--bg-color);\n",
              "    border: none;\n",
              "    border-radius: 50%;\n",
              "    cursor: pointer;\n",
              "    display: none;\n",
              "    fill: var(--fill-color);\n",
              "    height: 32px;\n",
              "    padding: 0;\n",
              "    width: 32px;\n",
              "  }\n",
              "\n",
              "  .colab-df-quickchart:hover {\n",
              "    background-color: var(--hover-bg-color);\n",
              "    box-shadow: 0 1px 2px rgba(60, 64, 67, 0.3), 0 1px 3px 1px rgba(60, 64, 67, 0.15);\n",
              "    fill: var(--button-hover-fill-color);\n",
              "  }\n",
              "\n",
              "  .colab-df-quickchart-complete:disabled,\n",
              "  .colab-df-quickchart-complete:disabled:hover {\n",
              "    background-color: var(--disabled-bg-color);\n",
              "    fill: var(--disabled-fill-color);\n",
              "    box-shadow: none;\n",
              "  }\n",
              "\n",
              "  .colab-df-spinner {\n",
              "    border: 2px solid var(--fill-color);\n",
              "    border-color: transparent;\n",
              "    border-bottom-color: var(--fill-color);\n",
              "    animation:\n",
              "      spin 1s steps(1) infinite;\n",
              "  }\n",
              "\n",
              "  @keyframes spin {\n",
              "    0% {\n",
              "      border-color: transparent;\n",
              "      border-bottom-color: var(--fill-color);\n",
              "      border-left-color: var(--fill-color);\n",
              "    }\n",
              "    20% {\n",
              "      border-color: transparent;\n",
              "      border-left-color: var(--fill-color);\n",
              "      border-top-color: var(--fill-color);\n",
              "    }\n",
              "    30% {\n",
              "      border-color: transparent;\n",
              "      border-left-color: var(--fill-color);\n",
              "      border-top-color: var(--fill-color);\n",
              "      border-right-color: var(--fill-color);\n",
              "    }\n",
              "    40% {\n",
              "      border-color: transparent;\n",
              "      border-right-color: var(--fill-color);\n",
              "      border-top-color: var(--fill-color);\n",
              "    }\n",
              "    60% {\n",
              "      border-color: transparent;\n",
              "      border-right-color: var(--fill-color);\n",
              "    }\n",
              "    80% {\n",
              "      border-color: transparent;\n",
              "      border-right-color: var(--fill-color);\n",
              "      border-bottom-color: var(--fill-color);\n",
              "    }\n",
              "    90% {\n",
              "      border-color: transparent;\n",
              "      border-bottom-color: var(--fill-color);\n",
              "    }\n",
              "  }\n",
              "</style>\n",
              "\n",
              "  <script>\n",
              "    async function quickchart(key) {\n",
              "      const quickchartButtonEl =\n",
              "        document.querySelector('#' + key + ' button');\n",
              "      quickchartButtonEl.disabled = true;  // To prevent multiple clicks.\n",
              "      quickchartButtonEl.classList.add('colab-df-spinner');\n",
              "      try {\n",
              "        const charts = await google.colab.kernel.invokeFunction(\n",
              "            'suggestCharts', [key], {});\n",
              "      } catch (error) {\n",
              "        console.error('Error during call to suggestCharts:', error);\n",
              "      }\n",
              "      quickchartButtonEl.classList.remove('colab-df-spinner');\n",
              "      quickchartButtonEl.classList.add('colab-df-quickchart-complete');\n",
              "    }\n",
              "    (() => {\n",
              "      let quickchartButtonEl =\n",
              "        document.querySelector('#df-fc3197cd-95f2-4422-a39d-b942aa8207d5 button');\n",
              "      quickchartButtonEl.style.display =\n",
              "        google.colab.kernel.accessAllowed ? 'block' : 'none';\n",
              "    })();\n",
              "  </script>\n",
              "</div>\n",
              "\n",
              "    </div>\n",
              "  </div>\n"
            ],
            "application/vnd.google.colaboratory.intrinsic+json": {
              "type": "dataframe",
              "variable_name": "df",
              "summary": "{\n  \"name\": \"df\",\n  \"rows\": 2772,\n  \"fields\": [\n    {\n      \"column\": \"age\",\n      \"properties\": {\n        \"dtype\": \"category\",\n        \"num_unique_values\": 48,\n        \"samples\": [\n          \"21\",\n          \"54\",\n          \"36\"\n        ],\n        \"semantic_type\": \"\",\n        \"description\": \"\"\n      }\n    },\n    {\n      \"column\": \"gender\",\n      \"properties\": {\n        \"dtype\": \"number\",\n        \"std\": 0,\n        \"min\": 1,\n        \"max\": 2,\n        \"num_unique_values\": 2,\n        \"samples\": [\n          2,\n          1\n        ],\n        \"semantic_type\": \"\",\n        \"description\": \"\"\n      }\n    },\n    {\n      \"column\": \"BMI\",\n      \"properties\": {\n        \"dtype\": \"number\",\n        \"std\": 6.129448694965217,\n        \"min\": 15.96,\n        \"max\": 53.13,\n        \"num_unique_values\": 548,\n        \"samples\": [\n          23.18,\n          26.885\n        ],\n        \"semantic_type\": \"\",\n        \"description\": \"\"\n      }\n    },\n    {\n      \"column\": \"no_of_children\",\n      \"properties\": {\n        \"dtype\": \"number\",\n        \"std\": 1,\n        \"min\": 0,\n        \"max\": 5,\n        \"num_unique_values\": 6,\n        \"samples\": [\n          0,\n          1\n        ],\n        \"semantic_type\": \"\",\n        \"description\": \"\"\n      }\n    },\n    {\n      \"column\": \"smoker\",\n      \"properties\": {\n        \"dtype\": \"category\",\n        \"num_unique_values\": 3,\n        \"samples\": [\n          \"1\",\n          \"0\"\n        ],\n        \"semantic_type\": \"\",\n        \"description\": \"\"\n      }\n    },\n    {\n      \"column\": \"region\",\n      \"properties\": {\n        \"dtype\": \"number\",\n        \"std\": 1,\n        \"min\": 1,\n        \"max\": 4,\n        \"num_unique_values\": 4,\n        \"samples\": [\n          4,\n          2\n        ],\n        \"semantic_type\": \"\",\n        \"description\": \"\"\n      }\n    },\n    {\n      \"column\": \"charges\",\n      \"properties\": {\n        \"dtype\": \"number\",\n        \"std\": 12151.768945168034,\n        \"min\": 1121.8739,\n        \"max\": 63770.42801,\n        \"num_unique_values\": 1337,\n        \"samples\": [\n          8688.85885,\n          5708.867\n        ],\n        \"semantic_type\": \"\",\n        \"description\": \"\"\n      }\n    }\n  ]\n}"
            }
          },
          "metadata": {},
          "execution_count": 2
        }
      ]
    },
    {
      "cell_type": "code",
      "source": [
        "df.replace('?',np.nan,inplace=True)"
      ],
      "metadata": {
        "id": "j-lKSQ9soAcb"
      },
      "execution_count": null,
      "outputs": []
    },
    {
      "cell_type": "markdown",
      "source": [
        "#Data Wrangling"
      ],
      "metadata": {
        "id": "4QQ8FITxoRJl"
      }
    },
    {
      "cell_type": "code",
      "source": [
        "#identify the columns that have some 'Null' (or NaN) information.\n",
        "missing_data = df.isnull()\n",
        "for column in missing_data.columns.values.tolist():\n",
        "    print (missing_data[column].value_counts())\n",
        "    print(\"\")\n",
        "\n",
        "#Age column has 4 missing values\n",
        "#Smoker column has 7 missing values"
      ],
      "metadata": {
        "id": "D4D-L5rcoWn8"
      },
      "execution_count": null,
      "outputs": []
    },
    {
      "cell_type": "code",
      "source": [
        "#For continuous attributes (e.g., age), replace missing values with the mean.\n",
        "avg_age=df['age'].astype(float).mean(axis=0)\n",
        "print('Mean value for age: ',avg_age)\n",
        "df['age']=df['age'].replace(np.nan,avg_age)"
      ],
      "metadata": {
        "colab": {
          "base_uri": "https://localhost:8080/"
        },
        "id": "xK9dsTK-pBRn",
        "outputId": "8e42ebb6-76c9-46cd-bdda-0dbe4b7cf01b"
      },
      "execution_count": null,
      "outputs": [
        {
          "output_type": "stream",
          "name": "stdout",
          "text": [
            "Mean value for age:  39.10982658959538\n"
          ]
        }
      ]
    },
    {
      "cell_type": "code",
      "source": [
        "#For categorical attributes (e.g., smoker), replace missing values with the most frequent value.\n",
        "frequency_smoker=df['smoker'].value_counts().idxmax()\n",
        "df['smoker']=df['smoker'].replace(np.nan,frequency_smoker)"
      ],
      "metadata": {
        "id": "9L5UkhpKpG7L"
      },
      "execution_count": null,
      "outputs": []
    },
    {
      "cell_type": "code",
      "source": [
        "#Update the data types of the respective columns.\n",
        "df[['age','smoker']].dtypes\n",
        "df[['age','smoker']]=df[['age','smoker']].astype(int)"
      ],
      "metadata": {
        "id": "CEfv17jKpJ9D"
      },
      "execution_count": null,
      "outputs": []
    },
    {
      "cell_type": "code",
      "source": [
        "#Update the charges column such that all values are rounded to nearest 2 decimal places.\n",
        "df[[\"charges\"]] = np.round(df[[\"charges\"]],2)\n",
        "print(df.head())"
      ],
      "metadata": {
        "colab": {
          "base_uri": "https://localhost:8080/"
        },
        "id": "jAYO8eh1tYNV",
        "outputId": "4d87d318-32b0-41be-f063-c3599d709f66"
      },
      "execution_count": null,
      "outputs": [
        {
          "output_type": "stream",
          "name": "stdout",
          "text": [
            "   age  gender     BMI  no_of_children  smoker  region   charges\n",
            "0   19       1  27.900               0       1       3  16884.92\n",
            "1   18       2  33.770               1       0       4   1725.55\n",
            "2   28       2  33.000               3       0       4   4449.46\n",
            "3   33       2  22.705               0       0       1  21984.47\n",
            "4   32       2  28.880               0       0       1   3866.86\n"
          ]
        }
      ]
    },
    {
      "cell_type": "markdown",
      "source": [
        "#Task 3 : Exploratory Data Analysis (EDA)\n",
        "\n",
        "Implement the regression plot for charges with respect to bmi"
      ],
      "metadata": {
        "id": "XZqtEh4VuN2y"
      }
    },
    {
      "cell_type": "code",
      "source": [
        "sns.regplot(x='charges',y='BMI',data=df, line_kws={\"color\": \"red\"})\n",
        "plt.ylim(0,)"
      ],
      "metadata": {
        "colab": {
          "base_uri": "https://localhost:8080/",
          "height": 466
        },
        "id": "_jXWz8fRt-k7",
        "outputId": "126e62cc-1ecf-4ec8-9e53-c8342dad180f"
      },
      "execution_count": null,
      "outputs": [
        {
          "output_type": "execute_result",
          "data": {
            "text/plain": [
              "(0.0, 54.9885)"
            ]
          },
          "metadata": {},
          "execution_count": 10
        },
        {
          "output_type": "display_data",
          "data": {
            "text/plain": [
              "<Figure size 640x480 with 1 Axes>"
            ],
            "image/png": "[encoded data removed]"
          },
          "metadata": {}
        }
      ]
    },
    {
      "cell_type": "code",
      "source": [
        "#Implement the box plot for charges with respect to smoker.\n",
        "sns.boxplot(x='smoker',y='charges',data=df)"
      ],
      "metadata": {
        "colab": {
          "base_uri": "https://localhost:8080/",
          "height": 466
        },
        "id": "eNuYeJ3uu8CB",
        "outputId": "d0dd1e73-bdad-4d70-851a-0778a7ec317f"
      },
      "execution_count": null,
      "outputs": [
        {
          "output_type": "execute_result",
          "data": {
            "text/plain": [
              "<Axes: xlabel='smoker', ylabel='charges'>"
            ]
          },
          "metadata": {},
          "execution_count": 11
        },
        {
          "output_type": "display_data",
          "data": {
            "text/plain": [
              "<Figure size 640x480 with 1 Axes>"
            ],
            "image/png": "[encoded data removed]"
          },
          "metadata": {}
        }
      ]
    },
    {
      "cell_type": "code",
      "source": [
        "#Print the correlation matrix for the dataset.\n",
        "print(df.corr())"
      ],
      "metadata": {
        "colab": {
          "base_uri": "https://localhost:8080/"
        },
        "id": "xM7YhC_lvjWX",
        "outputId": "e84b176d-0ccd-4908-952b-bcfec5ac9042"
      },
      "execution_count": null,
      "outputs": [
        {
          "output_type": "stream",
          "name": "stdout",
          "text": [
            "                     age    gender       BMI  no_of_children    smoker  \\\n",
            "age             1.000000 -0.026046  0.113048        0.037574 -0.023286   \n",
            "gender         -0.026046  1.000000  0.042924        0.016020  0.082326   \n",
            "BMI             0.113048  0.042924  1.000000       -0.001492  0.011489   \n",
            "no_of_children  0.037574  0.016020 -0.001492        1.000000  0.006362   \n",
            "smoker         -0.023286  0.082326  0.011489        0.006362  1.000000   \n",
            "region         -0.007167  0.022213  0.271119       -0.025717  0.054077   \n",
            "charges         0.298624  0.062837  0.199846        0.066442  0.788783   \n",
            "\n",
            "                  region   charges  \n",
            "age            -0.007167  0.298624  \n",
            "gender          0.022213  0.062837  \n",
            "BMI             0.271119  0.199846  \n",
            "no_of_children -0.025717  0.066442  \n",
            "smoker          0.054077  0.788783  \n",
            "region          1.000000  0.054058  \n",
            "charges         0.054058  1.000000  \n"
          ]
        }
      ]
    },
    {
      "cell_type": "markdown",
      "source": [
        "##Conclusion: Important Variables\n",
        "We now have a better idea of what our data looks like and which variables are important to take into account when predicting the charges. We have narrowed it down to the following variables:\n",
        "\n",
        "Continuous numerical variables: age\n",
        "\n",
        "Categorical variables: smoker\n",
        "\n",
        "As we now move into building machine learning models to automate our analysis, feeding the model with variables that meaningfully affect our target variable will improve our model's prediction performance."
      ],
      "metadata": {
        "id": "JOVZcwScyK2c"
      }
    },
    {
      "cell_type": "markdown",
      "source": [
        "#Task 4 : Model Development\n",
        "##Linear Regression\n",
        "Fit a linear regression model that may be used to predict the charges value, just by using the smoker attribute of the dataset. Print the\n",
        " R^2 score of this model."
      ],
      "metadata": {
        "id": "PdUcom4tvqgV"
      }
    },
    {
      "cell_type": "code",
      "source": [
        "lr=LinearRegression()\n",
        "X=df[['smoker']]\n",
        "Y=df['charges']\n",
        "lr.fit(X,Y)\n",
        "print('The R-square is: ',lr.score(X,Y))\n",
        "Yhat=lr.predict(X)\n",
        "mse = mean_squared_error(df['charges'], Yhat)\n",
        "print('The mean square error of charges and predicted value is: ', mse)"
      ],
      "metadata": {
        "colab": {
          "base_uri": "https://localhost:8080/"
        },
        "id": "LeRU04QnvwMN",
        "outputId": "6812d422-9706-411d-8275-9049346976e6"
      },
      "execution_count": null,
      "outputs": [
        {
          "output_type": "stream",
          "name": "stdout",
          "text": [
            "The R-square is:  0.6221791733924185\n",
            "The mean square error of charges and predicted value is:  55770970.49293007\n"
          ]
        }
      ]
    },
    {
      "cell_type": "markdown",
      "source": [
        "## Multiple Linear Regression\n",
        "Fit a linear regression model that may be used to predict the charges value, just by using all other attributes of the dataset. Print the\n",
        " score of this model. You should see an improvement in the performance."
      ],
      "metadata": {
        "id": "_5W8JiG3wT7s"
      }
    },
    {
      "cell_type": "code",
      "source": [
        "Z=df[['age','BMI','no_of_children','gender','region','smoker']]\n",
        "Y=df['charges']\n",
        "lr=LinearRegression()\n",
        "lr.fit(Z,Y)\n",
        "print('The R-square is: ', lr.score(Z, df['charges']))\n",
        "Y_predict_multifit = lr.predict(Z)\n",
        "print('The mean square error of price and predicted value using multifit is: ', mean_squared_error(df['charges'], Y_predict_multifit))"
      ],
      "metadata": {
        "colab": {
          "base_uri": "https://localhost:8080/"
        },
        "id": "nGMKRxwCwUeH",
        "outputId": "5c4b82ed-c987-4b06-bfce-c16db3472c98"
      },
      "execution_count": null,
      "outputs": [
        {
          "output_type": "stream",
          "name": "stdout",
          "text": [
            "The R-square is:  0.7504083820289634\n",
            "The mean square error of price and predicted value using multifit is:  36842772.50180054\n"
          ]
        }
      ]
    },
    {
      "cell_type": "markdown",
      "source": [
        "##Pipeline"
      ],
      "metadata": {
        "id": "CY6_YgrU1pbF"
      }
    },
    {
      "cell_type": "markdown",
      "source": [
        "Create a training pipeline that uses StandardScaler(), PolynomialFeatures() and LinearRegression() to create a model that can predict the charges value using all the other attributes of the dataset. There should be even further improvement in the performance."
      ],
      "metadata": {
        "id": "vSQCqFGQw5Qz"
      }
    },
    {
      "cell_type": "code",
      "source": [
        "Input=[('scale',StandardScaler()), ('polynomial', PolynomialFeatures(include_bias=False)), ('model',LinearRegression())]\n",
        "pipe=Pipeline(Input)\n",
        "Z=Z.astype(float)\n",
        "pipe.fit(Z,Y)\n",
        "ypipe=pipe.predict(Z)\n",
        "\n",
        "print('MSE for multi-variable polynomial pipeline is: ', mean_squared_error(Y, ypipe))\n",
        "print('R^2 for multi-variable polynomial pipeline is: ', r2_score(Y, ypipe))"
      ],
      "metadata": {
        "colab": {
          "base_uri": "https://localhost:8080/"
        },
        "id": "D08-6rK0w4V5",
        "outputId": "de8636be-e560-4c0d-f87d-376ba9c3564b"
      },
      "execution_count": null,
      "outputs": [
        {
          "output_type": "stream",
          "name": "stdout",
          "text": [
            "MSE for multi-variable polynomial pipeline is:  22841865.842027858\n",
            "R^2 for multi-variable polynomial pipeline is:  0.8452576213500093\n"
          ]
        }
      ]
    },
    {
      "cell_type": "markdown",
      "source": [
        "#Task 5 : Model Refinement\n",
        "Split the data into training and testing subsets, assuming that 20% of the data will be reserved for testing."
      ],
      "metadata": {
        "id": "aOTz9nuTx5N0"
      }
    },
    {
      "cell_type": "code",
      "source": [
        "z_train,z_test,y_train,y_test=train_test_split(Z,Y,test_size=0.2,random_state=1)"
      ],
      "metadata": {
        "id": "Qrsz-LJlx7ot"
      },
      "execution_count": null,
      "outputs": []
    },
    {
      "cell_type": "markdown",
      "source": [
        "Initialize a Ridge regressor that used hyperparameter alfa=0.1. Fit the model using training data data subset. Print the\n",
        " R^2 score for the testing data."
      ],
      "metadata": {
        "id": "ybNg2gEByOCt"
      }
    },
    {
      "cell_type": "code",
      "source": [
        "RidgeModel=Ridge(alpha=0.1)\n",
        "RidgeModel.fit(z_train, y_train)\n",
        "yhat = RidgeModel.predict(z_test)\n",
        "print(r2_score(y_test,yhat))"
      ],
      "metadata": {
        "colab": {
          "base_uri": "https://localhost:8080/"
        },
        "id": "KqjVcy3WyTps",
        "outputId": "68298276-744c-498c-e988-478c62a12b70"
      },
      "execution_count": null,
      "outputs": [
        {
          "output_type": "stream",
          "name": "stdout",
          "text": [
            "0.6760807731582404\n"
          ]
        }
      ]
    },
    {
      "cell_type": "markdown",
      "source": [
        "Apply polynomial transformation to the training parameters with degree=2. Use this transformed feature set to fit the same regression model, as above, using the training subset. Print the\n",
        "R^2 score for the testing subset."
      ],
      "metadata": {
        "id": "18jd3Hr5ydVO"
      }
    },
    {
      "cell_type": "code",
      "source": [
        "pr = PolynomialFeatures(degree=2)\n",
        "x_train_pr = pr.fit_transform(z_train)\n",
        "x_test_pr = pr.fit_transform(z_test)\n",
        "RidgeModel.fit(x_train_pr, y_train)\n",
        "y_hat = RidgeModel.predict(x_test_pr)\n",
        "print(r2_score(y_test,y_hat))"
      ],
      "metadata": {
        "colab": {
          "base_uri": "https://localhost:8080/"
        },
        "id": "jHcAW-8EycSg",
        "outputId": "88e2b17a-faec-4cf0-de4b-d8ce1c023c38"
      },
      "execution_count": null,
      "outputs": [
        {
          "output_type": "stream",
          "name": "stdout",
          "text": [
            "0.7835631107608145\n"
          ]
        }
      ]
    }
  ]
}