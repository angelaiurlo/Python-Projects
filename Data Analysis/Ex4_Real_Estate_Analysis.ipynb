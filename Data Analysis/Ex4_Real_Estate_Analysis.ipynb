{
  "nbformat": 4,
  "nbformat_minor": 0,
  "metadata": {
    "colab": {
      "provenance": []
    },
    "kernelspec": {
      "name": "python3",
      "display_name": "Python 3"
    },
    "language_info": {
      "name": "python"
    }
  },
  "cells": [
    {
      "cell_type": "markdown",
      "source": [
        "#House Sales in King County, USA\n",
        "\n",
        "I will analyze and predict housing prices using attributes or features such as square footage, number of bedrooms, number of floors, and so on.\n",
        "\n",
        "This dataset contains house sale prices for King County, which includes Seattle. It includes homes sold between May 2014 and May 2015.\n",
        "\n",
        "![tbl1.PNG](data:image/png;base64,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)"
      ],
      "metadata": {
        "id": "kc224cfw2psb"
      }
    },
    {
      "cell_type": "code",
      "execution_count": 19,
      "metadata": {
        "id": "PPPDjjKSPLMb"
      },
      "outputs": [],
      "source": [
        "import pandas as pd\n",
        "import matplotlib.pyplot as plt\n",
        "import numpy as np\n",
        "import seaborn as sns\n",
        "from scipy import stats\n",
        "from sklearn.pipeline import Pipeline\n",
        "from sklearn.metrics import mean_squared_error, r2_score\n",
        "from sklearn.preprocessing import StandardScaler,PolynomialFeatures\n",
        "from sklearn.linear_model import LinearRegression\n",
        "%matplotlib inline"
      ]
    },
    {
      "cell_type": "markdown",
      "source": [
        "#Importing Data Sets"
      ],
      "metadata": {
        "id": "LK9qjebmQk80"
      }
    },
    {
      "cell_type": "code",
      "source": [
        "filepath='https://cf-courses-data.s3.us.cloud-object-storage.appdomain.cloud/IBMDeveloperSkillsNetwork-DA0101EN-SkillsNetwork/labs/FinalModule_Coursera/data/kc_house_data_NaN.csv'\n",
        "df=pd.read_csv(filepath)"
      ],
      "metadata": {
        "id": "ux28m5wXPdqC"
      },
      "execution_count": 2,
      "outputs": []
    },
    {
      "cell_type": "code",
      "source": [
        "print(df.dtypes)"
      ],
      "metadata": {
        "colab": {
          "base_uri": "https://localhost:8080/"
        },
        "id": "JpaphGFyP9DV",
        "outputId": "8ae58453-a700-4902-ec48-a4725eaff7a5"
      },
      "execution_count": null,
      "outputs": [
        {
          "output_type": "stream",
          "name": "stdout",
          "text": [
            "Unnamed: 0         int64\n",
            "id                 int64\n",
            "date              object\n",
            "price            float64\n",
            "bedrooms         float64\n",
            "bathrooms        float64\n",
            "sqft_living        int64\n",
            "sqft_lot           int64\n",
            "floors           float64\n",
            "waterfront         int64\n",
            "view               int64\n",
            "condition          int64\n",
            "grade              int64\n",
            "sqft_above         int64\n",
            "sqft_basement      int64\n",
            "yr_built           int64\n",
            "yr_renovated       int64\n",
            "zipcode            int64\n",
            "lat              float64\n",
            "long             float64\n",
            "sqft_living15      int64\n",
            "sqft_lot15         int64\n",
            "dtype: object\n"
          ]
        }
      ]
    },
    {
      "cell_type": "code",
      "source": [
        "print(df.describe())"
      ],
      "metadata": {
        "colab": {
          "base_uri": "https://localhost:8080/"
        },
        "id": "yoihtYOrQXfP",
        "outputId": "d09be102-ea9e-49a9-91cd-bdbc639d98a5"
      },
      "execution_count": null,
      "outputs": [
        {
          "output_type": "stream",
          "name": "stdout",
          "text": [
            "        Unnamed: 0            id         price      bedrooms     bathrooms  \\\n",
            "count  21613.00000  2.161300e+04  2.161300e+04  21600.000000  21603.000000   \n",
            "mean   10806.00000  4.580302e+09  5.400881e+05      3.372870      2.115736   \n",
            "std     6239.28002  2.876566e+09  3.671272e+05      0.926657      0.768996   \n",
            "min        0.00000  1.000102e+06  7.500000e+04      1.000000      0.500000   \n",
            "25%     5403.00000  2.123049e+09  3.219500e+05      3.000000      1.750000   \n",
            "50%    10806.00000  3.904930e+09  4.500000e+05      3.000000      2.250000   \n",
            "75%    16209.00000  7.308900e+09  6.450000e+05      4.000000      2.500000   \n",
            "max    21612.00000  9.900000e+09  7.700000e+06     33.000000      8.000000   \n",
            "\n",
            "        sqft_living      sqft_lot        floors    waterfront          view  \\\n",
            "count  21613.000000  2.161300e+04  21613.000000  21613.000000  21613.000000   \n",
            "mean    2079.899736  1.510697e+04      1.494309      0.007542      0.234303   \n",
            "std      918.440897  4.142051e+04      0.539989      0.086517      0.766318   \n",
            "min      290.000000  5.200000e+02      1.000000      0.000000      0.000000   \n",
            "25%     1427.000000  5.040000e+03      1.000000      0.000000      0.000000   \n",
            "50%     1910.000000  7.618000e+03      1.500000      0.000000      0.000000   \n",
            "75%     2550.000000  1.068800e+04      2.000000      0.000000      0.000000   \n",
            "max    13540.000000  1.651359e+06      3.500000      1.000000      4.000000   \n",
            "\n",
            "       ...         grade    sqft_above  sqft_basement      yr_built  \\\n",
            "count  ...  21613.000000  21613.000000   21613.000000  21613.000000   \n",
            "mean   ...      7.656873   1788.390691     291.509045   1971.005136   \n",
            "std    ...      1.175459    828.090978     442.575043     29.373411   \n",
            "min    ...      1.000000    290.000000       0.000000   1900.000000   \n",
            "25%    ...      7.000000   1190.000000       0.000000   1951.000000   \n",
            "50%    ...      7.000000   1560.000000       0.000000   1975.000000   \n",
            "75%    ...      8.000000   2210.000000     560.000000   1997.000000   \n",
            "max    ...     13.000000   9410.000000    4820.000000   2015.000000   \n",
            "\n",
            "       yr_renovated       zipcode           lat          long  sqft_living15  \\\n",
            "count  21613.000000  21613.000000  21613.000000  21613.000000   21613.000000   \n",
            "mean      84.402258  98077.939805     47.560053   -122.213896    1986.552492   \n",
            "std      401.679240     53.505026      0.138564      0.140828     685.391304   \n",
            "min        0.000000  98001.000000     47.155900   -122.519000     399.000000   \n",
            "25%        0.000000  98033.000000     47.471000   -122.328000    1490.000000   \n",
            "50%        0.000000  98065.000000     47.571800   -122.230000    1840.000000   \n",
            "75%        0.000000  98118.000000     47.678000   -122.125000    2360.000000   \n",
            "max     2015.000000  98199.000000     47.777600   -121.315000    6210.000000   \n",
            "\n",
            "          sqft_lot15  \n",
            "count   21613.000000  \n",
            "mean    12768.455652  \n",
            "std     27304.179631  \n",
            "min       651.000000  \n",
            "25%      5100.000000  \n",
            "50%      7620.000000  \n",
            "75%     10083.000000  \n",
            "max    871200.000000  \n",
            "\n",
            "[8 rows x 21 columns]\n"
          ]
        }
      ]
    },
    {
      "cell_type": "markdown",
      "source": [
        "#Data Wrangling"
      ],
      "metadata": {
        "id": "aCdJiKvuQhay"
      }
    },
    {
      "cell_type": "markdown",
      "source": [
        "Drop the columns \"id\" and \"Unnamed: 0\" from axis 1 using the method drop(), then use the method describe() to obtain a statistical summary of the data. Make sure the inplace parameter is set to True."
      ],
      "metadata": {
        "id": "O-2QY0zjQsXI"
      }
    },
    {
      "cell_type": "code",
      "source": [
        "df.drop(['id','Unnamed: 0'],axis=1,inplace=True)"
      ],
      "metadata": {
        "id": "-FJ5ljNKQr02"
      },
      "execution_count": 3,
      "outputs": []
    },
    {
      "cell_type": "code",
      "source": [
        "df.describe()"
      ],
      "metadata": {
        "id": "gguM_8BBQ8ES"
      },
      "execution_count": null,
      "outputs": []
    },
    {
      "cell_type": "code",
      "source": [
        "df.replace('?',np.nan,inplace=True)"
      ],
      "metadata": {
        "id": "3zM7Ju1LSdOK"
      },
      "execution_count": 5,
      "outputs": []
    },
    {
      "cell_type": "code",
      "source": [
        "#identify the columns that have some 'Null' (or NaN) information.\n",
        "\n",
        "#bedrooms column has 13 missing values\n",
        "print(\"number of NaN values for the column bedrooms :\", df['bedrooms'].isnull().sum())\n",
        "#bathrooms column has 10 missing values\n",
        "print(\"number of NaN values for the column bathrooms :\", df['bathrooms'].isnull().sum())"
      ],
      "metadata": {
        "id": "XGrq7mR4RTBA",
        "colab": {
          "base_uri": "https://localhost:8080/"
        },
        "outputId": "52ce82ae-00f3-4e5a-f2b2-a5e24dac4549"
      },
      "execution_count": 6,
      "outputs": [
        {
          "output_type": "stream",
          "name": "stdout",
          "text": [
            "number of NaN values for the column bedrooms : 13\n",
            "number of NaN values for the column bathrooms : 10\n"
          ]
        }
      ]
    },
    {
      "cell_type": "code",
      "source": [
        "#We can replace the missing values of the column 'bedrooms' with the mean of the column\n",
        "avg_bedrooms=df['bedrooms'].mean(axis=0)\n",
        "df['bedrooms']=df['bedrooms'].replace(np.nan,avg_bedrooms)"
      ],
      "metadata": {
        "id": "v66JCANUTK5W"
      },
      "execution_count": 7,
      "outputs": []
    },
    {
      "cell_type": "code",
      "source": [
        "#We also replace the missing values of the column 'bathrooms' with the mean of the column\n",
        "avg_bathrooms=df['bathrooms'].mean(axis=0)\n",
        "df['bathrooms']=df['bathrooms'].replace(np.nan,avg_bathrooms)"
      ],
      "metadata": {
        "id": "4EZenHB2TmlZ"
      },
      "execution_count": 8,
      "outputs": []
    },
    {
      "cell_type": "code",
      "source": [
        "#number of null values\n",
        "print(\"number of NaN values for the column bedrooms :\", df['bedrooms'].isnull().sum())\n",
        "print(\"number of NaN values for the column bathrooms :\", df['bathrooms'].isnull().sum())"
      ],
      "metadata": {
        "colab": {
          "base_uri": "https://localhost:8080/"
        },
        "id": "4ebKDvhbT4Xm",
        "outputId": "466645f5-b401-4a80-a85b-ace3cff44666"
      },
      "execution_count": 9,
      "outputs": [
        {
          "output_type": "stream",
          "name": "stdout",
          "text": [
            "number of NaN values for the column bedrooms : 0\n",
            "number of NaN values for the column bathrooms : 0\n"
          ]
        }
      ]
    },
    {
      "cell_type": "markdown",
      "source": [
        "#Exploratory Data Analysis"
      ],
      "metadata": {
        "id": "_fylCzFfUboP"
      }
    },
    {
      "cell_type": "markdown",
      "source": [
        "Use the method value_counts to count the number of houses with unique floor values, use the method .to_frame() to convert it to a data frame."
      ],
      "metadata": {
        "id": "cL79JXy2Ug2N"
      }
    },
    {
      "cell_type": "code",
      "source": [
        "df['floors'].value_counts().to_frame()"
      ],
      "metadata": {
        "colab": {
          "base_uri": "https://localhost:8080/",
          "height": 269
        },
        "id": "SrXkz1ftUcb_",
        "outputId": "054f6fe8-7c53-4829-e648-1a87cec97003"
      },
      "execution_count": null,
      "outputs": [
        {
          "output_type": "execute_result",
          "data": {
            "text/plain": [
              "        count\n",
              "floors       \n",
              "1.0     10680\n",
              "2.0      8241\n",
              "1.5      1910\n",
              "3.0       613\n",
              "2.5       161\n",
              "3.5         8"
            ],
            "text/html": [
              "\n",
              "  <div id=\"df-bdf536a3-4660-4a64-a136-2194cfc59795\" class=\"colab-df-container\">\n",
              "    <div>\n",
              "<style scoped>\n",
              "    .dataframe tbody tr th:only-of-type {\n",
              "        vertical-align: middle;\n",
              "    }\n",
              "\n",
              "    .dataframe tbody tr th {\n",
              "        vertical-align: top;\n",
              "    }\n",
              "\n",
              "    .dataframe thead th {\n",
              "        text-align: right;\n",
              "    }\n",
              "</style>\n",
              "<table border=\"1\" class=\"dataframe\">\n",
              "  <thead>\n",
              "    <tr style=\"text-align: right;\">\n",
              "      <th></th>\n",
              "      <th>count</th>\n",
              "    </tr>\n",
              "    <tr>\n",
              "      <th>floors</th>\n",
              "      <th></th>\n",
              "    </tr>\n",
              "  </thead>\n",
              "  <tbody>\n",
              "    <tr>\n",
              "      <th>1.0</th>\n",
              "      <td>10680</td>\n",
              "    </tr>\n",
              "    <tr>\n",
              "      <th>2.0</th>\n",
              "      <td>8241</td>\n",
              "    </tr>\n",
              "    <tr>\n",
              "      <th>1.5</th>\n",
              "      <td>1910</td>\n",
              "    </tr>\n",
              "    <tr>\n",
              "      <th>3.0</th>\n",
              "      <td>613</td>\n",
              "    </tr>\n",
              "    <tr>\n",
              "      <th>2.5</th>\n",
              "      <td>161</td>\n",
              "    </tr>\n",
              "    <tr>\n",
              "      <th>3.5</th>\n",
              "      <td>8</td>\n",
              "    </tr>\n",
              "  </tbody>\n",
              "</table>\n",
              "</div>\n",
              "    <div class=\"colab-df-buttons\">\n",
              "\n",
              "  <div class=\"colab-df-container\">\n",
              "    <button class=\"colab-df-convert\" onclick=\"convertToInteractive('df-bdf536a3-4660-4a64-a136-2194cfc59795')\"\n",
              "            title=\"Convert this dataframe to an interactive table.\"\n",
              "            style=\"display:none;\">\n",
              "\n",
              "  <svg xmlns=\"http://www.w3.org/2000/svg\" height=\"24px\" viewBox=\"0 -960 960 960\">\n",
              "    <path d=\"M120-120v-720h720v720H120Zm60-500h600v-160H180v160Zm220 220h160v-160H400v160Zm0 220h160v-160H400v160ZM180-400h160v-160H180v160Zm440 0h160v-160H620v160ZM180-180h160v-160H180v160Zm440 0h160v-160H620v160Z\"/>\n",
              "  </svg>\n",
              "    </button>\n",
              "\n",
              "  <style>\n",
              "    .colab-df-container {\n",
              "      display:flex;\n",
              "      gap: 12px;\n",
              "    }\n",
              "\n",
              "    .colab-df-convert {\n",
              "      background-color: #E8F0FE;\n",
              "      border: none;\n",
              "      border-radius: 50%;\n",
              "      cursor: pointer;\n",
              "      display: none;\n",
              "      fill: #1967D2;\n",
              "      height: 32px;\n",
              "      padding: 0 0 0 0;\n",
              "      width: 32px;\n",
              "    }\n",
              "\n",
              "    .colab-df-convert:hover {\n",
              "      background-color: #E2EBFA;\n",
              "      box-shadow: 0px 1px 2px rgba(60, 64, 67, 0.3), 0px 1px 3px 1px rgba(60, 64, 67, 0.15);\n",
              "      fill: #174EA6;\n",
              "    }\n",
              "\n",
              "    .colab-df-buttons div {\n",
              "      margin-bottom: 4px;\n",
              "    }\n",
              "\n",
              "    [theme=dark] .colab-df-convert {\n",
              "      background-color: #3B4455;\n",
              "      fill: #D2E3FC;\n",
              "    }\n",
              "\n",
              "    [theme=dark] .colab-df-convert:hover {\n",
              "      background-color: #434B5C;\n",
              "      box-shadow: 0px 1px 3px 1px rgba(0, 0, 0, 0.15);\n",
              "      filter: drop-shadow(0px 1px 2px rgba(0, 0, 0, 0.3));\n",
              "      fill: #FFFFFF;\n",
              "    }\n",
              "  </style>\n",
              "\n",
              "    <script>\n",
              "      const buttonEl =\n",
              "        document.querySelector('#df-bdf536a3-4660-4a64-a136-2194cfc59795 button.colab-df-convert');\n",
              "      buttonEl.style.display =\n",
              "        google.colab.kernel.accessAllowed ? 'block' : 'none';\n",
              "\n",
              "      async function convertToInteractive(key) {\n",
              "        const element = document.querySelector('#df-bdf536a3-4660-4a64-a136-2194cfc59795');\n",
              "        const dataTable =\n",
              "          await google.colab.kernel.invokeFunction('convertToInteractive',\n",
              "                                                    [key], {});\n",
              "        if (!dataTable) return;\n",
              "\n",
              "        const docLinkHtml = 'Like what you see? Visit the ' +\n",
              "          '<a target=\"_blank\" href=https://colab.research.google.com/notebooks/data_table.ipynb>data table notebook</a>'\n",
              "          + ' to learn more about interactive tables.';\n",
              "        element.innerHTML = '';\n",
              "        dataTable['output_type'] = 'display_data';\n",
              "        await google.colab.output.renderOutput(dataTable, element);\n",
              "        const docLink = document.createElement('div');\n",
              "        docLink.innerHTML = docLinkHtml;\n",
              "        element.appendChild(docLink);\n",
              "      }\n",
              "    </script>\n",
              "  </div>\n",
              "\n",
              "\n",
              "<div id=\"df-65376e05-e812-40b6-9da6-4f4970463a5d\">\n",
              "  <button class=\"colab-df-quickchart\" onclick=\"quickchart('df-65376e05-e812-40b6-9da6-4f4970463a5d')\"\n",
              "            title=\"Suggest charts\"\n",
              "            style=\"display:none;\">\n",
              "\n",
              "<svg xmlns=\"http://www.w3.org/2000/svg\" height=\"24px\"viewBox=\"0 0 24 24\"\n",
              "     width=\"24px\">\n",
              "    <g>\n",
              "        <path d=\"M19 3H5c-1.1 0-2 .9-2 2v14c0 1.1.9 2 2 2h14c1.1 0 2-.9 2-2V5c0-1.1-.9-2-2-2zM9 17H7v-7h2v7zm4 0h-2V7h2v10zm4 0h-2v-4h2v4z\"/>\n",
              "    </g>\n",
              "</svg>\n",
              "  </button>\n",
              "\n",
              "<style>\n",
              "  .colab-df-quickchart {\n",
              "      --bg-color: #E8F0FE;\n",
              "      --fill-color: #1967D2;\n",
              "      --hover-bg-color: #E2EBFA;\n",
              "      --hover-fill-color: #174EA6;\n",
              "      --disabled-fill-color: #AAA;\n",
              "      --disabled-bg-color: #DDD;\n",
              "  }\n",
              "\n",
              "  [theme=dark] .colab-df-quickchart {\n",
              "      --bg-color: #3B4455;\n",
              "      --fill-color: #D2E3FC;\n",
              "      --hover-bg-color: #434B5C;\n",
              "      --hover-fill-color: #FFFFFF;\n",
              "      --disabled-bg-color: #3B4455;\n",
              "      --disabled-fill-color: #666;\n",
              "  }\n",
              "\n",
              "  .colab-df-quickchart {\n",
              "    background-color: var(--bg-color);\n",
              "    border: none;\n",
              "    border-radius: 50%;\n",
              "    cursor: pointer;\n",
              "    display: none;\n",
              "    fill: var(--fill-color);\n",
              "    height: 32px;\n",
              "    padding: 0;\n",
              "    width: 32px;\n",
              "  }\n",
              "\n",
              "  .colab-df-quickchart:hover {\n",
              "    background-color: var(--hover-bg-color);\n",
              "    box-shadow: 0 1px 2px rgba(60, 64, 67, 0.3), 0 1px 3px 1px rgba(60, 64, 67, 0.15);\n",
              "    fill: var(--button-hover-fill-color);\n",
              "  }\n",
              "\n",
              "  .colab-df-quickchart-complete:disabled,\n",
              "  .colab-df-quickchart-complete:disabled:hover {\n",
              "    background-color: var(--disabled-bg-color);\n",
              "    fill: var(--disabled-fill-color);\n",
              "    box-shadow: none;\n",
              "  }\n",
              "\n",
              "  .colab-df-spinner {\n",
              "    border: 2px solid var(--fill-color);\n",
              "    border-color: transparent;\n",
              "    border-bottom-color: var(--fill-color);\n",
              "    animation:\n",
              "      spin 1s steps(1) infinite;\n",
              "  }\n",
              "\n",
              "  @keyframes spin {\n",
              "    0% {\n",
              "      border-color: transparent;\n",
              "      border-bottom-color: var(--fill-color);\n",
              "      border-left-color: var(--fill-color);\n",
              "    }\n",
              "    20% {\n",
              "      border-color: transparent;\n",
              "      border-left-color: var(--fill-color);\n",
              "      border-top-color: var(--fill-color);\n",
              "    }\n",
              "    30% {\n",
              "      border-color: transparent;\n",
              "      border-left-color: var(--fill-color);\n",
              "      border-top-color: var(--fill-color);\n",
              "      border-right-color: var(--fill-color);\n",
              "    }\n",
              "    40% {\n",
              "      border-color: transparent;\n",
              "      border-right-color: var(--fill-color);\n",
              "      border-top-color: var(--fill-color);\n",
              "    }\n",
              "    60% {\n",
              "      border-color: transparent;\n",
              "      border-right-color: var(--fill-color);\n",
              "    }\n",
              "    80% {\n",
              "      border-color: transparent;\n",
              "      border-right-color: var(--fill-color);\n",
              "      border-bottom-color: var(--fill-color);\n",
              "    }\n",
              "    90% {\n",
              "      border-color: transparent;\n",
              "      border-bottom-color: var(--fill-color);\n",
              "    }\n",
              "  }\n",
              "</style>\n",
              "\n",
              "  <script>\n",
              "    async function quickchart(key) {\n",
              "      const quickchartButtonEl =\n",
              "        document.querySelector('#' + key + ' button');\n",
              "      quickchartButtonEl.disabled = true;  // To prevent multiple clicks.\n",
              "      quickchartButtonEl.classList.add('colab-df-spinner');\n",
              "      try {\n",
              "        const charts = await google.colab.kernel.invokeFunction(\n",
              "            'suggestCharts', [key], {});\n",
              "      } catch (error) {\n",
              "        console.error('Error during call to suggestCharts:', error);\n",
              "      }\n",
              "      quickchartButtonEl.classList.remove('colab-df-spinner');\n",
              "      quickchartButtonEl.classList.add('colab-df-quickchart-complete');\n",
              "    }\n",
              "    (() => {\n",
              "      let quickchartButtonEl =\n",
              "        document.querySelector('#df-65376e05-e812-40b6-9da6-4f4970463a5d button');\n",
              "      quickchartButtonEl.style.display =\n",
              "        google.colab.kernel.accessAllowed ? 'block' : 'none';\n",
              "    })();\n",
              "  </script>\n",
              "</div>\n",
              "\n",
              "    </div>\n",
              "  </div>\n"
            ],
            "application/vnd.google.colaboratory.intrinsic+json": {
              "type": "dataframe",
              "summary": "{\n  \"name\": \"df['floors']\",\n  \"rows\": 6,\n  \"fields\": [\n    {\n      \"column\": \"floors\",\n      \"properties\": {\n        \"dtype\": \"number\",\n        \"std\": 0.9354143466934853,\n        \"min\": 1.0,\n        \"max\": 3.5,\n        \"num_unique_values\": 6,\n        \"samples\": [\n          1.0,\n          2.0,\n          3.5\n        ],\n        \"semantic_type\": \"\",\n        \"description\": \"\"\n      }\n    },\n    {\n      \"column\": \"count\",\n      \"properties\": {\n        \"dtype\": \"number\",\n        \"std\": 4651,\n        \"min\": 8,\n        \"max\": 10680,\n        \"num_unique_values\": 6,\n        \"samples\": [\n          10680,\n          8241,\n          8\n        ],\n        \"semantic_type\": \"\",\n        \"description\": \"\"\n      }\n    }\n  ]\n}"
            }
          },
          "metadata": {},
          "execution_count": 10
        }
      ]
    },
    {
      "cell_type": "markdown",
      "source": [
        "Use the function boxplot in the seaborn library to determine whether houses with a waterfront view or without a waterfront view have more price outliers."
      ],
      "metadata": {
        "id": "BcCquIB5WBMa"
      }
    },
    {
      "cell_type": "code",
      "source": [
        "sns.boxplot(x='waterfront',y='price',data=df)"
      ],
      "metadata": {
        "colab": {
          "base_uri": "https://localhost:8080/",
          "height": 482
        },
        "id": "WS8y_-u6WB0n",
        "outputId": "bbe9a33c-cb2a-4b90-f90e-b282a6f95bbc"
      },
      "execution_count": 10,
      "outputs": [
        {
          "output_type": "execute_result",
          "data": {
            "text/plain": [
              "<Axes: xlabel='waterfront', ylabel='price'>"
            ]
          },
          "metadata": {},
          "execution_count": 10
        },
        {
          "output_type": "display_data",
          "data": {
            "text/plain": [
              "<Figure size 640x480 with 1 Axes>"
            ],
            "image/png": "[encoded data removed]"
          },
          "metadata": {}
        }
      ]
    },
    {
      "cell_type": "markdown",
      "source": [
        "Use the function regplot in the seaborn library to determine if the feature sqft_above is negatively or positively correlated with price."
      ],
      "metadata": {
        "id": "MB7HaY3kXI36"
      }
    },
    {
      "cell_type": "code",
      "source": [
        "sns.regplot(x='sqft_above',y='price',data=df)"
      ],
      "metadata": {
        "colab": {
          "base_uri": "https://localhost:8080/",
          "height": 482
        },
        "id": "jokYUt8VXJVw",
        "outputId": "a096524d-3f11-4ae9-f883-fa5f47eafd4b"
      },
      "execution_count": 11,
      "outputs": [
        {
          "output_type": "execute_result",
          "data": {
            "text/plain": [
              "<Axes: xlabel='sqft_above', ylabel='price'>"
            ]
          },
          "metadata": {},
          "execution_count": 11
        },
        {
          "output_type": "display_data",
          "data": {
            "text/plain": [
              "<Figure size 640x480 with 1 Axes>"
            ],
            "image/png": "[encoded data removed]"
          },
          "metadata": {}
        }
      ]
    },
    {
      "cell_type": "code",
      "source": [
        "#find the feature other than price that is most correlated with price.\n",
        "df1=df.drop('date',axis=1)"
      ],
      "metadata": {
        "id": "lVFAD9TbXmxt"
      },
      "execution_count": 12,
      "outputs": []
    },
    {
      "cell_type": "code",
      "source": [
        "df1.corr()['price'].sort_values()"
      ],
      "metadata": {
        "id": "vm_PvU67YD-m",
        "colab": {
          "base_uri": "https://localhost:8080/",
          "height": 680
        },
        "outputId": "9aa96fc4-1a15-4ef3-8bfe-612a02e57449"
      },
      "execution_count": 13,
      "outputs": [
        {
          "output_type": "execute_result",
          "data": {
            "text/plain": [
              "zipcode         -0.053203\n",
              "long             0.021626\n",
              "condition        0.036362\n",
              "yr_built         0.054012\n",
              "sqft_lot15       0.082447\n",
              "sqft_lot         0.089661\n",
              "yr_renovated     0.126434\n",
              "floors           0.256794\n",
              "waterfront       0.266369\n",
              "lat              0.307003\n",
              "bedrooms         0.308797\n",
              "sqft_basement    0.323816\n",
              "view             0.397293\n",
              "bathrooms        0.525738\n",
              "sqft_living15    0.585379\n",
              "sqft_above       0.605567\n",
              "grade            0.667434\n",
              "sqft_living      0.702035\n",
              "price            1.000000\n",
              "Name: price, dtype: float64"
            ],
            "text/html": [
              "<div>\n",
              "<style scoped>\n",
              "    .dataframe tbody tr th:only-of-type {\n",
              "        vertical-align: middle;\n",
              "    }\n",
              "\n",
              "    .dataframe tbody tr th {\n",
              "        vertical-align: top;\n",
              "    }\n",
              "\n",
              "    .dataframe thead th {\n",
              "        text-align: right;\n",
              "    }\n",
              "</style>\n",
              "<table border=\"1\" class=\"dataframe\">\n",
              "  <thead>\n",
              "    <tr style=\"text-align: right;\">\n",
              "      <th></th>\n",
              "      <th>price</th>\n",
              "    </tr>\n",
              "  </thead>\n",
              "  <tbody>\n",
              "    <tr>\n",
              "      <th>zipcode</th>\n",
              "      <td>-0.053203</td>\n",
              "    </tr>\n",
              "    <tr>\n",
              "      <th>long</th>\n",
              "      <td>0.021626</td>\n",
              "    </tr>\n",
              "    <tr>\n",
              "      <th>condition</th>\n",
              "      <td>0.036362</td>\n",
              "    </tr>\n",
              "    <tr>\n",
              "      <th>yr_built</th>\n",
              "      <td>0.054012</td>\n",
              "    </tr>\n",
              "    <tr>\n",
              "      <th>sqft_lot15</th>\n",
              "      <td>0.082447</td>\n",
              "    </tr>\n",
              "    <tr>\n",
              "      <th>sqft_lot</th>\n",
              "      <td>0.089661</td>\n",
              "    </tr>\n",
              "    <tr>\n",
              "      <th>yr_renovated</th>\n",
              "      <td>0.126434</td>\n",
              "    </tr>\n",
              "    <tr>\n",
              "      <th>floors</th>\n",
              "      <td>0.256794</td>\n",
              "    </tr>\n",
              "    <tr>\n",
              "      <th>waterfront</th>\n",
              "      <td>0.266369</td>\n",
              "    </tr>\n",
              "    <tr>\n",
              "      <th>lat</th>\n",
              "      <td>0.307003</td>\n",
              "    </tr>\n",
              "    <tr>\n",
              "      <th>bedrooms</th>\n",
              "      <td>0.308797</td>\n",
              "    </tr>\n",
              "    <tr>\n",
              "      <th>sqft_basement</th>\n",
              "      <td>0.323816</td>\n",
              "    </tr>\n",
              "    <tr>\n",
              "      <th>view</th>\n",
              "      <td>0.397293</td>\n",
              "    </tr>\n",
              "    <tr>\n",
              "      <th>bathrooms</th>\n",
              "      <td>0.525738</td>\n",
              "    </tr>\n",
              "    <tr>\n",
              "      <th>sqft_living15</th>\n",
              "      <td>0.585379</td>\n",
              "    </tr>\n",
              "    <tr>\n",
              "      <th>sqft_above</th>\n",
              "      <td>0.605567</td>\n",
              "    </tr>\n",
              "    <tr>\n",
              "      <th>grade</th>\n",
              "      <td>0.667434</td>\n",
              "    </tr>\n",
              "    <tr>\n",
              "      <th>sqft_living</th>\n",
              "      <td>0.702035</td>\n",
              "    </tr>\n",
              "    <tr>\n",
              "      <th>price</th>\n",
              "      <td>1.000000</td>\n",
              "    </tr>\n",
              "  </tbody>\n",
              "</table>\n",
              "</div><br><label><b>dtype:</b> float64</label>"
            ]
          },
          "metadata": {},
          "execution_count": 13
        }
      ]
    },
    {
      "cell_type": "markdown",
      "source": [
        "##Conclusion: Important Variables\n",
        "We now have a better idea of what our data looks like and which variables are important to take into account when predicting the house price. We have narrowed it down to the following variables:\n",
        "\n",
        "Continuous numerical variables: sqft_living15, sqft_above, sqft_living\n",
        "\n",
        "Categorical variables: bathrooms and grade\n",
        "\n",
        "As we now move into building machine learning models to automate our analysis, feeding the model with variables that meaningfully affect our target variable will improve our model's prediction performance."
      ],
      "metadata": {
        "id": "-7RWFtgH5Ijq"
      }
    },
    {
      "cell_type": "markdown",
      "source": [
        "#Model Development"
      ],
      "metadata": {
        "id": "O1lTopmhBKI5"
      }
    },
    {
      "cell_type": "code",
      "source": [
        "#We can Fit a linear regression model using the longitude feature 'long' and caculate the R^2.\n",
        "X = df[['long']]\n",
        "Y = df['price']\n",
        "lm = LinearRegression()\n",
        "lm.fit(X,Y)\n",
        "Yhat=lm.predict(X)\n",
        "print('The R-square is: ', lm.score(X, Y))\n",
        "mse = mean_squared_error(df['price'], Yhat)\n",
        "print('The mean square error of price and predicted value is: ', mse)"
      ],
      "metadata": {
        "colab": {
          "base_uri": "https://localhost:8080/"
        },
        "id": "-Pcbao1PBLaM",
        "outputId": "08fa6800-7d99-46bb-f010-0e0d47a3d0cc"
      },
      "execution_count": 21,
      "outputs": [
        {
          "output_type": "stream",
          "name": "stdout",
          "text": [
            "The R-square is:  0.00046769430149007363\n",
            "The mean square error of price and predicted value is:  134713108191.87683\n"
          ]
        }
      ]
    },
    {
      "cell_type": "code",
      "source": [
        "#Fit a linear regression model to predict the 'price' using the feature 'sqft_living' then calculate the R^2.\n",
        "X=df[['sqft_living']]\n",
        "lm.fit(X,Y)\n",
        "Yhat=lm.predict(X)\n",
        "print('the R^2 score is: ',lm.score(X,Y))\n",
        "mse = mean_squared_error(df['price'], Yhat)\n",
        "print('The mean square error of price and predicted value is: ', mse)"
      ],
      "metadata": {
        "colab": {
          "base_uri": "https://localhost:8080/"
        },
        "id": "jabQTMmfBatO",
        "outputId": "895fa8eb-1198-40c0-b041-3ea59d53ff8f"
      },
      "execution_count": 22,
      "outputs": [
        {
          "output_type": "stream",
          "name": "stdout",
          "text": [
            "the R^2 score is:  0.4928532179037931\n",
            "The mean square error of price and predicted value is:  68351286833.039825\n"
          ]
        }
      ]
    },
    {
      "cell_type": "code",
      "source": [
        "#Fit a linear regression model to predict the 'price' using the list of features:\n",
        "features =df[[\"floors\", \"waterfront\",\"lat\" ,\"bedrooms\" ,\"sqft_basement\" ,\"view\" ,\"bathrooms\",\"sqft_living15\",\"sqft_above\",\"grade\",\"sqft_living\"]]\n",
        "lm.fit(features,Y)\n",
        "print('the R^2 score is: ',lm.score(features,Y))\n",
        "Y_predict_multifit = lm.predict(features)\n",
        "print('The mean square error of price and predicted value using multifit is: ', mean_squared_error(df['price'], Y_predict_multifit))"
      ],
      "metadata": {
        "colab": {
          "base_uri": "https://localhost:8080/"
        },
        "id": "ZmyfVbjhCAvG",
        "outputId": "16c2b34b-082e-4df5-bec0-0cf341a99d4d"
      },
      "execution_count": 23,
      "outputs": [
        {
          "output_type": "stream",
          "name": "stdout",
          "text": [
            "the R^2 score is:  0.65769516660375\n",
            "The mean square error of price and predicted value using multifit is:  46134524910.3139\n"
          ]
        }
      ]
    },
    {
      "cell_type": "code",
      "source": [
        "#Use the list to create a pipeline object to predict the 'price', fit the object using the features in the list features, and calculate the R^2.\n",
        "Input=[('scale',StandardScaler()),('polynomial', PolynomialFeatures(include_bias=False)),('model',LinearRegression())]\n",
        "pipe=Pipeline(Input)\n",
        "features=features.astype(float)\n",
        "pipe.fit(features,Y)\n",
        "ypipe=pipe.predict(features)\n",
        "print('R^2 for multi-variable polynomial pipeline is: ', r2_score(Y, ypipe))\n",
        "print('MSE for multi-variable polynomial pipeline is: ', mean_squared_error(Y, ypipe))"
      ],
      "metadata": {
        "colab": {
          "base_uri": "https://localhost:8080/"
        },
        "id": "Hi8H8k70CzUm",
        "outputId": "56e8926a-e1a9-4629-d85f-d1c8a1af59f0"
      },
      "execution_count": 25,
      "outputs": [
        {
          "output_type": "stream",
          "name": "stdout",
          "text": [
            "R^2 for multi-variable polynomial pipeline is:  0.7513408515988734\n",
            "MSE for multi-variable polynomial pipeline is:  33513320750.599987\n"
          ]
        }
      ]
    },
    {
      "cell_type": "markdown",
      "source": [
        "##Prediction and Decision Making\n",
        "The values of R^2 increase as we go from Single Linear Regression to Multiple Linear Regression. Further, if we go for multiple linear regression extended with polynomial features, we get an even better R^2 value and a lower MSE."
      ],
      "metadata": {
        "id": "5HDqe6i37sWB"
      }
    },
    {
      "cell_type": "markdown",
      "source": [
        "#Model Evaluation and Refinement"
      ],
      "metadata": {
        "id": "TFMvRdorDaVi"
      }
    },
    {
      "cell_type": "code",
      "source": [
        "from sklearn.model_selection import cross_val_score\n",
        "from sklearn.model_selection import train_test_split\n",
        "from sklearn.linear_model import Ridge"
      ],
      "metadata": {
        "id": "RC-Km4OvDbDW"
      },
      "execution_count": 26,
      "outputs": []
    },
    {
      "cell_type": "code",
      "source": [
        "#split the data into training and testing sets:\n",
        "features =[\"floors\", \"waterfront\",\"lat\" ,\"bedrooms\" ,\"sqft_basement\" ,\"view\" ,\"bathrooms\",\"sqft_living15\",\"sqft_above\",\"grade\",\"sqft_living\"]\n",
        "X = df[features]\n",
        "Y = df['price']\n",
        "\n",
        "x_train, x_test, y_train, y_test = train_test_split(X, Y, test_size=0.15, random_state=1)\n",
        "\n",
        "\n",
        "print(\"number of test samples:\", x_test.shape[0])\n",
        "print(\"number of training samples:\",x_train.shape[0])"
      ],
      "metadata": {
        "colab": {
          "base_uri": "https://localhost:8080/"
        },
        "id": "2U0H4CRNDg1T",
        "outputId": "78a517c9-d60c-41d9-bf10-c0ed1d81a581"
      },
      "execution_count": 27,
      "outputs": [
        {
          "output_type": "stream",
          "name": "stdout",
          "text": [
            "number of test samples: 3242\n",
            "number of training samples: 18371\n"
          ]
        }
      ]
    },
    {
      "cell_type": "code",
      "source": [
        "#Create and fit a Ridge regression object using the training data, set the\n",
        "#regularization parameter to 0.1, and calculate the R^2 using the test data.\n",
        "\n",
        "#Let's create a Ridge regression object, setting the regularization parameter (alpha) to 0.1\n",
        "RigeModel=Ridge(alpha=0.1)\n",
        "#Like regular regression, you can fit the model using the method fit.\n",
        "RigeModel.fit(x_train,y_train)\n",
        "#Similarly, you can obtain a prediction:\n",
        "yhat=RigeModel.predict(x_train)\n",
        "test_score = RigeModel.score(x_test, y_test)\n",
        "print(\"Test Score\", test_score)"
      ],
      "metadata": {
        "colab": {
          "base_uri": "https://localhost:8080/"
        },
        "id": "GFTk4klADnLc",
        "outputId": "32da6ca9-5026-4e01-e11b-f893294bbe2b"
      },
      "execution_count": 28,
      "outputs": [
        {
          "output_type": "stream",
          "name": "stdout",
          "text": [
            "Test Score 0.6478759163939112\n"
          ]
        }
      ]
    },
    {
      "cell_type": "code",
      "source": [
        "#Perform a second order polynomial transform on both the training data and testing data.\n",
        "#Create and fit a Ridge regression object using the training data, set the regularisation\n",
        "#parameter to 0.1, and calculate the R^2 utilising the test data provided.\n",
        "\n",
        "pr=PolynomialFeatures(degree=2)\n",
        "x_train_pr=pr.fit_transform(x_train)\n",
        "x_test_pr=pr.fit_transform(x_test)\n",
        "\n",
        "#Let's create a Ridge regression object, setting the regularization parameter (alpha) to 0.1\n",
        "RigeModel=Ridge(alpha=0.1)\n",
        "#Like regular regression, you can fit the model using the method fit.\n",
        "RigeModel.fit(x_train_pr,y_train)\n",
        "#Similarly, you can obtain a prediction:\n",
        "yhat=RigeModel.predict(x_train_pr)\n",
        "test_score = RigeModel.score(x_test_pr, y_test)\n",
        "print(\"Test Score\", test_score)"
      ],
      "metadata": {
        "colab": {
          "base_uri": "https://localhost:8080/"
        },
        "id": "VBVxe7sDFvBJ",
        "outputId": "4c7e4ed1-3953-4738-e054-6c876f9b5d89"
      },
      "execution_count": 29,
      "outputs": [
        {
          "output_type": "stream",
          "name": "stdout",
          "text": [
            "Test Score 0.7002744267906067\n"
          ]
        }
      ]
    }
  ]
}